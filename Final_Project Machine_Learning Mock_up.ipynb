{
 "cells": [
  {
   "cell_type": "code",
   "execution_count": null,
   "metadata": {},
   "outputs": [],
   "source": [
    "#Importing the dependencies\n",
    "import Pandas as pd\n",
    "Import Path from pathlib\n",
    "Import Matplotlib.pyplot as plt\n",
    "Import LinearRegression from sklearn.linear_model\n",
    "\n"
   ]
  },
  {
   "cell_type": "code",
   "execution_count": null,
   "metadata": {},
   "outputs": [],
   "source": [
    "#What kind of model\n",
    "# Scikit-Learn Model Selection \n",
    "#from sklearn.linear_model import LinearRegression\n",
    "#from sklearn.model_selection import train_test_split\n"
   ]
  },
  {
   "cell_type": "code",
   "execution_count": null,
   "metadata": {},
   "outputs": [],
   "source": [
    "#We will be using a supervised model"
   ]
  },
  {
   "cell_type": "code",
   "execution_count": null,
   "metadata": {},
   "outputs": [],
   "source": [
    "#Since we are charting the happiness score.\n",
    "#we will focus on these factors\n",
    "#life expectancy at birth, Freedom index to make life choices for the purposes of our analysis\n",
    "#Our outputs will be how happy each country is based on the factors imputed.\n",
    "\n"
   ]
  },
  {
   "cell_type": "code",
   "execution_count": null,
   "metadata": {},
   "outputs": [],
   "source": [
    "#Next we will create a data frame\n",
    "#from the csv file (df= “file.csv”).\n",
    "#Data Source\n",
    "# Word Happiness: (https://www.kaggle.com/unsdsn/world-happiness)\n"
   ]
  },
  {
   "cell_type": "code",
   "execution_count": null,
   "metadata": {},
   "outputs": [],
   "source": [
    "#We will train test split\n",
    "#We will import the “train_test_split” from sklearn.model_selection.\n",
    "#We will define the  x as the independent variable (this what the model takes in) and y as the dependent variable (the output we want to predict) and we will use the  75% - 25% default. Both x and y need to be split in train and test. Once you test the model, the model will take x_test data and check the predicted output/label against the y_test (which helps to determine the accuracy -> how close the model got the predicted y to the actual (test) . \n"
   ]
  },
  {
   "cell_type": "code",
   "execution_count": null,
   "metadata": {},
   "outputs": [],
   "source": [
    "Initial Imports\n",
    "#Preprocess the data\n",
    "#Load the data\n",
    "#Clean data\n",
    "#Split data into train test split\n",
    "#from sklearn.model_selection import train_test_split\n",
    "#X_train, X_test, y_train, y_test = train_test_split(X, y, random_state=1, stratify=y)\n",
    "                                                    \n",
    "#X_train.shape\n",
    " \n",
    "#X = StandardScaler().fit_transform(X)\n"
   ]
  },
  {
   "cell_type": "code",
   "execution_count": null,
   "metadata": {},
   "outputs": [],
   "source": [
    "#Separate the features (X) from the target (y)\n",
    "#Split data into training and testing\n",
    "#Create a logistic regression model - is this what we're doing?\n",
    "#Fit the model using the training data\n",
    "#Make predictions\n",
    "#Print accuracy and confusion matrix\n"
   ]
  },
  {
   "cell_type": "code",
   "execution_count": null,
   "metadata": {},
   "outputs": [],
   "source": []
  },
  {
   "cell_type": "code",
   "execution_count": null,
   "metadata": {},
   "outputs": [],
   "source": []
  },
  {
   "cell_type": "code",
   "execution_count": null,
   "metadata": {},
   "outputs": [],
   "source": []
  },
  {
   "cell_type": "code",
   "execution_count": null,
   "metadata": {},
   "outputs": [],
   "source": []
  }
 ],
 "metadata": {
  "kernelspec": {
   "display_name": "PythonData",
   "language": "python",
   "name": "pythondata"
  },
  "language_info": {
   "codemirror_mode": {
    "name": "ipython",
    "version": 3
   },
   "file_extension": ".py",
   "mimetype": "text/x-python",
   "name": "python",
   "nbconvert_exporter": "python",
   "pygments_lexer": "ipython3",
   "version": "3.7.9"
  }
 },
 "nbformat": 4,
 "nbformat_minor": 4
}
